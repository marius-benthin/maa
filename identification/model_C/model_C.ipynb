{
 "cells": [
  {
   "cell_type": "code",
   "execution_count": null,
   "metadata": {
    "collapsed": true
   },
   "outputs": [],
   "source": [
    "from typing import List\n",
    "from numpy import load, ndarray\n",
    "from sklearn.model_selection import PredefinedSplit\n",
    "from sqlmodel import create_engine, SQLModel, Session, select\n",
    "\n",
    "from models import Config, Sample\n",
    "\n",
    "\n",
    "__author__ = \"Marius Benthin\"\n",
    "\n",
    "\n",
    "# load secrets from environment\n",
    "config = Config()\n",
    "\n",
    "# create database connection and tables\n",
    "sql_engine = create_engine(config.database_url)\n",
    "SQLModel.metadata.create_all(sql_engine)\n",
    "\n",
    "# load numpy feature vector\n",
    "with load(file=config.numpy_file, allow_pickle=True) as data:\n",
    "\n",
    "    # get features and sample IDs\n",
    "    X: ndarray = data['X']\n",
    "    sample_ids: ndarray = data['sample_ids']\n",
    "\n",
    "    # get labels and fold ID for each sample\n",
    "    y: List[str] = []\n",
    "    test_fold: List[int] = []\n",
    "    with Session(sql_engine) as session:\n",
    "        for parent_id, child_id  in sample_ids:\n",
    "            # get all parent samples\n",
    "            parent: Sample = session.exec(select(Sample).where(Sample.id == parent_id)).one()\n",
    "            y.append(parent.actor.name)\n",
    "            test_fold.append(parent.fold_id)\n",
    "\n",
    "# split dataset into k folds, with k = 8\n",
    "cv: PredefinedSplit = PredefinedSplit(test_fold=test_fold)"
   ]
  },
  {
   "cell_type": "code",
   "execution_count": null,
   "outputs": [],
   "source": [
    "from sklearn.svm import SVC\n",
    "from numpy import savez_compressed\n",
    "from sklearn.base import ClassifierMixin\n",
    "from sklearn.metrics import classification_report\n",
    "from sklearn.model_selection import cross_val_predict\n",
    "\n",
    "svm_linear: ClassifierMixin = SVC(kernel='linear', random_state=config.random_state, max_iter=config.max_iter)\n",
    "\n",
    "# predict class labels (for hard voting)\n",
    "y_pred = cross_val_predict(estimator=svm_linear, X=X, y=y, method='predict', cv=cv.get_n_splits())\n",
    "print(classification_report(y, y_pred))\n",
    "\n",
    "# predict class probabilities (for soft voting)\n",
    "probabilities = cross_val_predict(estimator=svm_linear, X=X, y=y, method='predict_proba', cv=cv.get_n_splits())\n",
    "# export numpy feature vector\n",
    "savez_compressed(file='model_C_svm_linear_probabilities.npz', P=probabilities, sample_ids=sample_ids)"
   ],
   "metadata": {
    "collapsed": false
   }
  },
  {
   "cell_type": "code",
   "execution_count": null,
   "outputs": [],
   "source": [
    "from sklearn.svm import SVC\n",
    "from numpy import savez_compressed\n",
    "from sklearn.base import ClassifierMixin\n",
    "from sklearn.metrics import classification_report\n",
    "from sklearn.model_selection import cross_val_predict\n",
    "\n",
    "svm_poly: ClassifierMixin = SVC(kernel='poly', random_state=config.random_state, max_iter=config.max_iter)\n",
    "\n",
    "# predict class labels (for hard voting)\n",
    "y_pred = cross_val_predict(estimator=svm_poly, X=X, y=y, method='predict', cv=cv.get_n_splits())\n",
    "print(classification_report(y, y_pred))\n",
    "\n",
    "# predict class probabilities (for soft voting)\n",
    "probabilities = cross_val_predict(estimator=svm_poly, X=X, y=y, method='predict_proba', cv=cv.get_n_splits())\n",
    "# export numpy feature vector\n",
    "savez_compressed(file='model_C_svm_poly_probabilities.npz', P=probabilities, sample_ids=sample_ids)"
   ],
   "metadata": {
    "collapsed": false
   }
  },
  {
   "cell_type": "code",
   "execution_count": null,
   "outputs": [],
   "source": [
    "from sklearn.svm import SVC\n",
    "from numpy import savez_compressed\n",
    "from sklearn.base import ClassifierMixin\n",
    "from sklearn.metrics import classification_report\n",
    "from sklearn.model_selection import cross_val_predict\n",
    "\n",
    "svm_rbf: ClassifierMixin = SVC(kernel='rbf', random_state=config.random_state, max_iter=config.max_iter)\n",
    "\n",
    "# predict class labels (for hard voting)\n",
    "y_pred = cross_val_predict(estimator=svm_rbf, X=X, y=y, method='predict', cv=cv.get_n_splits())\n",
    "print(classification_report(y, y_pred))\n",
    "\n",
    "# predict class probabilities (for soft voting)\n",
    "probabilities = cross_val_predict(estimator=svm_rbf, X=X, y=y, method='predict_proba', cv=cv.get_n_splits())\n",
    "# export numpy feature vector\n",
    "savez_compressed(file='model_C_svm_rbf_probabilities.npz', P=probabilities, sample_ids=sample_ids)"
   ],
   "metadata": {
    "collapsed": false
   }
  },
  {
   "cell_type": "code",
   "execution_count": null,
   "outputs": [],
   "source": [
    "from numpy import savez_compressed\n",
    "from sklearn.base import ClassifierMixin\n",
    "from sklearn.metrics import classification_report\n",
    "from sklearn.ensemble import RandomForestClassifier\n",
    "from sklearn.model_selection import cross_val_predict\n",
    "\n",
    "rfc: ClassifierMixin = RandomForestClassifier(random_state=config.random_state)\n",
    "\n",
    "# predict class labels (for hard voting)\n",
    "y_pred = cross_val_predict(estimator=rfc, X=X, y=y, method='predict', cv=cv.get_n_splits())\n",
    "print(classification_report(y, y_pred))\n",
    "\n",
    "# predict class probabilities (for soft voting)\n",
    "probabilities = cross_val_predict(estimator=rfc, X=X, y=y, method='predict_proba', cv=cv.get_n_splits())\n",
    "# export numpy feature vector\n",
    "savez_compressed(file='model_C_rfc_probabilities.npz', P=probabilities, sample_ids=sample_ids)"
   ],
   "metadata": {
    "collapsed": false
   }
  },
  {
   "cell_type": "code",
   "execution_count": null,
   "outputs": [],
   "source": [
    "# install pytorch with CUDA\n",
    "!pip3 install torch torchvision torchaudio --extra-index-url https://download.pytorch.org/whl/cu117"
   ],
   "metadata": {
    "collapsed": false
   }
  },
  {
   "cell_type": "code",
   "execution_count": null,
   "outputs": [],
   "source": [
    "import torch\n",
    "from sklearn import preprocessing\n",
    "from skorch import NeuralNetClassifier\n",
    "from sklearn.pipeline import make_pipeline\n",
    "from neural_network import DNN, Preprocessor\n",
    "from sklearn.metrics import classification_report\n",
    "from sklearn.model_selection import cross_val_predict\n",
    "\n",
    "# check if GPU is available\n",
    "if torch.cuda.is_available():\n",
    "    device = 'cuda'\n",
    "    torch.cuda.empty_cache()\n",
    "else:\n",
    "    device = 'cpu'\n",
    "print(f\"Using device: {device}\")\n",
    "\n",
    "y_encoder = preprocessing.LabelEncoder()\n",
    "y_encoded = y_encoder.fit_transform(y)\n",
    "\n",
    "fnn = make_pipeline(\n",
    "    Preprocessor(),\n",
    "    NeuralNetClassifier(\n",
    "        module=DNN,\n",
    "        module__D_in=X.shape[1],\n",
    "        module__D_out=len(set(y)),\n",
    "        train_split=None,\n",
    "        criterion=torch.nn.CrossEntropyLoss,\n",
    "        optimizer=torch.optim.Adam,\n",
    "        lr=config.max_iter,\n",
    "        device=device,\n",
    "        max_epochs=config.epochs,\n",
    "    )\n",
    ")\n",
    "\n",
    "# predict class labels (for hard voting)\n",
    "y_pred = cross_val_predict(estimator=fnn, X=X, y=y_encoded, method='predict', cv=cv.get_n_splits())\n",
    "print(classification_report(y, y_encoder.inverse_transform(y_pred)))\n",
    "\n",
    "# predict class probabilities (for soft voting)\n",
    "probabilities = cross_val_predict(estimator=fnn, X=X, y=y_encoded, method='predict_proba', cv=cv.get_n_splits())\n",
    "# export numpy feature vector\n",
    "savez_compressed(file='model_C_fnn_probabilities.npz', P=probabilities, sample_ids=sample_ids)"
   ],
   "metadata": {
    "collapsed": false
   }
  }
 ],
 "metadata": {
  "kernelspec": {
   "display_name": "Python 3",
   "language": "python",
   "name": "python3"
  },
  "language_info": {
   "codemirror_mode": {
    "name": "ipython",
    "version": 2
   },
   "file_extension": ".py",
   "mimetype": "text/x-python",
   "name": "python",
   "nbconvert_exporter": "python",
   "pygments_lexer": "ipython2",
   "version": "2.7.6"
  }
 },
 "nbformat": 4,
 "nbformat_minor": 0
}
